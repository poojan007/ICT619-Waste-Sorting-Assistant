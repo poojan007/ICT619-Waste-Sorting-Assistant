{
  "nbformat": 4,
  "nbformat_minor": 0,
  "metadata": {
    "colab": {
      "provenance": [],
      "gpuType": "T4",
      "authorship_tag": "ABX9TyPXahxUgkjhtL07c1FYbVk7",
      "include_colab_link": true
    },
    "kernelspec": {
      "name": "python3",
      "display_name": "Python 3"
    },
    "language_info": {
      "name": "python"
    },
    "accelerator": "GPU"
  },
  "cells": [
    {
      "cell_type": "markdown",
      "metadata": {
        "id": "view-in-github",
        "colab_type": "text"
      },
      "source": [
        "<a href=\"https://colab.research.google.com/github/poojan007/ICT619-Waste-Sorting-Assistant/blob/main/ICT619_Assignment_1.ipynb\" target=\"_parent\"><img src=\"https://colab.research.google.com/assets/colab-badge.svg\" alt=\"Open In Colab\"/></a>"
      ]
    },
    {
      "cell_type": "markdown",
      "source": [
        "# SmartSort Model\n",
        "This model performs a process for data augmentation, and training a convolutional neural network (CNN) using Transfer Learning using VGG16 and MobileNetV2 on image data for classifying waste images into recyclable and organic.\n",
        "\n"
      ],
      "metadata": {
        "id": "b0ShL6qcvVyq"
      }
    },
    {
      "cell_type": "markdown",
      "source": [
        "## Upload file by mounting Google Drive"
      ],
      "metadata": {
        "id": "yyFnzHmt5YkP"
      }
    },
    {
      "cell_type": "code",
      "source": [
        "from google.colab import drive\n",
        "drive.mount('/mntDrive')"
      ],
      "metadata": {
        "colab": {
          "base_uri": "https://localhost:8080/"
        },
        "id": "Vtf-pm3_5cXD",
        "outputId": "abb33adb-a0db-45c4-e4f9-6624832e242e"
      },
      "execution_count": null,
      "outputs": [
        {
          "output_type": "stream",
          "name": "stdout",
          "text": [
            "Mounted at /mntDrive\n"
          ]
        }
      ]
    },
    {
      "cell_type": "code",
      "source": [
        "# load data from google drive and unzip it\n",
        "\n",
        "!unzip -q /mntDrive/MyDrive/ICT619-Dataset/archive.zip -d data"
      ],
      "metadata": {
        "id": "U5e-U7Q854uZ"
      },
      "execution_count": null,
      "outputs": []
    },
    {
      "cell_type": "markdown",
      "source": [
        "## Importing Libraries"
      ],
      "metadata": {
        "id": "QvVnE9s_5XGU"
      }
    },
    {
      "cell_type": "code",
      "execution_count": null,
      "metadata": {
        "id": "p9tM2Dzlm_PO"
      },
      "outputs": [],
      "source": [
        "import os\n",
        "import tensorflow as tf\n",
        "from keras.layers import Input, Lambda, Dense, Flatten\n",
        "from keras.models import Model\n",
        "from keras.applications.vgg16 import VGG16\n",
        "from keras.applications.vgg16 import preprocess_input\n",
        "from keras.preprocessing import image\n",
        "from keras.preprocessing.image import ImageDataGenerator\n",
        "from keras.models import Sequential\n",
        "from keras.models import load_model\n",
        "import numpy as np\n",
        "import matplotlib.pyplot as plt\n",
        "from PIL import Image"
      ]
    },
    {
      "cell_type": "markdown",
      "source": [
        "## Define dataset paths"
      ],
      "metadata": {
        "id": "jpts8eGZwFpd"
      }
    },
    {
      "cell_type": "code",
      "source": [
        "train_dir = '/content/data/DATASET/TRAIN'\n",
        "test_dir = '/content/data/DATASET/TEST'"
      ],
      "metadata": {
        "id": "XMkE9NhgwIyU"
      },
      "execution_count": null,
      "outputs": []
    },
    {
      "cell_type": "markdown",
      "source": [
        "## Data Analysis\n",
        "\n",
        "The dataset contains images divided into training and test sets all in jpg format. Therefore, no data labeling was required as the images were already labelled into two categories 'R' and 'O', recyclable and Organic, respectively."
      ],
      "metadata": {
        "id": "6hAu5T0O14wK"
      }
    },
    {
      "cell_type": "code",
      "source": [
        "class_names = os.listdir((train_dir))\n",
        "print(f'Number of categories: {len(class_names)}')\n",
        "print(f'Names of categories: {class_names}')"
      ],
      "metadata": {
        "id": "GFWIa-xe2OUp",
        "colab": {
          "base_uri": "https://localhost:8080/"
        },
        "outputId": "2f6e1c9e-390b-437b-9e44-819e170481dc"
      },
      "execution_count": null,
      "outputs": [
        {
          "output_type": "stream",
          "name": "stdout",
          "text": [
            "Number of categories: 2\n",
            "Names of categories: ['O', 'R']\n"
          ]
        }
      ]
    },
    {
      "cell_type": "code",
      "source": [
        "def count_images(directory, classes):\n",
        "    return {class_name: len(glob(os.path.join(directory, class_name, '*'))) for class_name in classes}\n",
        "\n",
        "count_train = count_images(train_dir, class_names)\n",
        "count_test = count_images(test_dir, class_names)\n",
        "\n",
        "total_train_images = sum(count_train.values())\n",
        "total_test_images = sum(count_test.values())\n",
        "\n",
        "print(f'Total number of images in train set: {total_train_images}')\n",
        "print(f'Total number of images in test set: {total_test_images}')"
      ],
      "metadata": {
        "colab": {
          "base_uri": "https://localhost:8080/"
        },
        "id": "AlzbEtGqGveW",
        "outputId": "2a3e15be-a876-46d6-d51a-a82d0d6df6fd"
      },
      "execution_count": null,
      "outputs": [
        {
          "output_type": "stream",
          "name": "stdout",
          "text": [
            "Total number of images in train set: 22564\n",
            "Total number of images in test set: 2513\n"
          ]
        }
      ]
    },
    {
      "cell_type": "markdown",
      "source": [
        "Plotting number of images in train set:"
      ],
      "metadata": {
        "id": "plNcKT_VQNOD"
      }
    },
    {
      "cell_type": "code",
      "source": [
        "classes = list(count_train.keys())  # Extract class names\n",
        "train_counts = [count_train[class_name] for class_name in classes]  # Extract counts for each class\n",
        "\n",
        "plt.figure(figsize=(10, 8))  # Optional: Adjusts the figure size\n",
        "plt.bar(classes, train_counts, color='skyblue')  # Creates the bar plot\n",
        "plt.xlabel('Class Names')  # X-axis label\n",
        "plt.ylabel('Number of Images')  # Y-axis label\n",
        "plt.xticks(rotation=45, ha='right')  # Rotate class names for better readability\n",
        "plt.title('Number of Images per Class in Training Set')  # Chart title\n",
        "plt.tight_layout()  # Adjust layout to not cut off labels\n",
        "\n",
        "plt.show()  # Display the plot"
      ],
      "metadata": {
        "colab": {
          "base_uri": "https://localhost:8080/",
          "height": 807
        },
        "id": "ESRT5450QQxe",
        "outputId": "ac8a7b83-0a2e-4495-87b2-8e7989b33624"
      },
      "execution_count": null,
      "outputs": [
        {
          "output_type": "display_data",
          "data": {
            "text/plain": [
              "<Figure size 1000x800 with 1 Axes>"
            ],
            "image/png": "[encoded data removed]"
          },
          "metadata": {}
        }
      ]
    },
    {
      "cell_type": "markdown",
      "source": [
        "Plotting number of images in the test set:"
      ],
      "metadata": {
        "id": "bfgrfohBRmkL"
      }
    },
    {
      "cell_type": "code",
      "source": [
        "classes = list(count_test.keys())  # Extract class names\n",
        "train_counts = [count_test[class_name] for class_name in classes]  # Extract counts for each class\n",
        "\n",
        "plt.figure(figsize=(10, 8))  # Optional: Adjusts the figure size\n",
        "plt.bar(classes, train_counts, color='skyblue')  # Creates the bar plot\n",
        "plt.xlabel('Class Names')  # X-axis label\n",
        "plt.ylabel('Number of Images')  # Y-axis label\n",
        "plt.xticks(rotation=45, ha='right')  # Rotate class names for better readability\n",
        "plt.title('Number of Images per Class in Test Set')  # Chart title\n",
        "plt.tight_layout()  # Adjust layout to not cut off labels\n",
        "\n",
        "plt.show()  # Display the plot"
      ],
      "metadata": {
        "colab": {
          "base_uri": "https://localhost:8080/",
          "height": 807
        },
        "id": "tEoJPqIeRpbg",
        "outputId": "cfea5b0b-1674-42f6-9216-cad64a913272"
      },
      "execution_count": null,
      "outputs": [
        {
          "output_type": "display_data",
          "data": {
            "text/plain": [
              "<Figure size 1000x800 with 1 Axes>"
            ],
            "image/png": "[encoded data removed]"
          },
          "metadata": {}
        }
      ]
    },
    {
      "cell_type": "markdown",
      "source": [
        "## Data preparation\n",
        "\n",
        "We perform data augmentation on our dataset. To develop a transformation that rescales the images and applies data augmentation, we utilized ImageDataGenerator. We only augment the training data. The validation data is only rescaled."
      ],
      "metadata": {
        "id": "JzbNRgaF2XyB"
      }
    },
    {
      "cell_type": "code",
      "source": [
        "train_datagen = ImageDataGenerator(rotation_range=10,\n",
        "                                   width_shift_range=0.2,\n",
        "                                   height_shift_range=0.2,\n",
        "                                   rescale = 1./255,\n",
        "                                   shear_range = 0.2,\n",
        "                                   zoom_range = 0.2,\n",
        "                                   horizontal_flip = True,\n",
        "                                   vertical_flip=True)\n",
        "\n",
        "test_datagen = ImageDataGenerator(rescale = 1./255)\n"
      ],
      "metadata": {
        "id": "CQ5Xypwg2vnj"
      },
      "execution_count": null,
      "outputs": []
    },
    {
      "cell_type": "markdown",
      "source": [
        "Now we split the data into training and test sets and change the image size to 224."
      ],
      "metadata": {
        "id": "1ly4jfkbT-7J"
      }
    },
    {
      "cell_type": "code",
      "source": [
        "batch_size = 32\n",
        "image_size = (224, 224)\n",
        "\n",
        "train_set = train_datagen.flow_from_directory(train_dir,\n",
        "                                                 target_size = image_size,\n",
        "                                                 batch_size = batch_size,\n",
        "                                                 class_mode = 'binary')\n",
        "\n",
        "test_set = test_datagen.flow_from_directory(test_dir,\n",
        "                                            target_size = image_size,\n",
        "                                            batch_size = batch_size,\n",
        "                                            class_mode = 'binary')"
      ],
      "metadata": {
        "colab": {
          "base_uri": "https://localhost:8080/"
        },
        "id": "tEHBujtQUPBa",
        "outputId": "a72d9e0a-5904-4977-ed9e-3e8bb83f1278"
      },
      "execution_count": null,
      "outputs": [
        {
          "output_type": "stream",
          "name": "stdout",
          "text": [
            "Found 22564 images belonging to 2 classes.\n",
            "Found 2513 images belonging to 2 classes.\n"
          ]
        }
      ]
    },
    {
      "cell_type": "code",
      "source": [
        "train_set.class_indices"
      ],
      "metadata": {
        "colab": {
          "base_uri": "https://localhost:8080/"
        },
        "id": "iDODdrneVYGx",
        "outputId": "e09fb89a-af4f-451e-c4c2-f64f9c5b4429"
      },
      "execution_count": null,
      "outputs": [
        {
          "output_type": "execute_result",
          "data": {
            "text/plain": [
              "{'O': 0, 'R': 1}"
            ]
          },
          "metadata": {},
          "execution_count": 12
        }
      ]
    },
    {
      "cell_type": "code",
      "source": [
        "train_set.image_shape"
      ],
      "metadata": {
        "colab": {
          "base_uri": "https://localhost:8080/"
        },
        "id": "ry47CjluVjJk",
        "outputId": "e9f484f3-d0d7-45bb-b014-e8df4c195d18"
      },
      "execution_count": null,
      "outputs": [
        {
          "output_type": "execute_result",
          "data": {
            "text/plain": [
              "(224, 224, 3)"
            ]
          },
          "metadata": {},
          "execution_count": 13
        }
      ]
    },
    {
      "cell_type": "code",
      "source": [
        "test_set.image_shape"
      ],
      "metadata": {
        "colab": {
          "base_uri": "https://localhost:8080/"
        },
        "id": "Jj9z3X-1Vm6o",
        "outputId": "bf54b540-409e-4411-b3e7-6ef54cfa7c3d"
      },
      "execution_count": null,
      "outputs": [
        {
          "output_type": "execute_result",
          "data": {
            "text/plain": [
              "(224, 224, 3)"
            ]
          },
          "metadata": {},
          "execution_count": 14
        }
      ]
    },
    {
      "cell_type": "markdown",
      "source": [
        "## Model Building\n",
        "\n",
        "Building the CNN model architecture. It starts with building a model by using transfer learning with pre-trained VGG16 & MobileNetV2 models."
      ],
      "metadata": {
        "id": "Y9uKJDJ23Nt3"
      }
    },
    {
      "cell_type": "code",
      "source": [
        "image_shape = (224, 224, 3)\n",
        "\n",
        "vgg = tf.keras.applications.VGG16(input_shape=image_shape,\n",
        "                                         include_top=False,\n",
        "                                         weights='imagenet')\n",
        "\n",
        "mobileNet = tf.keras.applications.MobileNetV2(input_shape=image_shape,\n",
        "                                         include_top=False,\n",
        "                                         weights='imagenet')"
      ],
      "metadata": {
        "id": "cNYPKyoc3ltm",
        "colab": {
          "base_uri": "https://localhost:8080/"
        },
        "outputId": "1483bd6b-8f80-48c7-dad7-eb56403d05f3"
      },
      "execution_count": null,
      "outputs": [
        {
          "output_type": "stream",
          "name": "stdout",
          "text": [
            "Downloading data from https://storage.googleapis.com/tensorflow/keras-applications/vgg16/vgg16_weights_tf_dim_ordering_tf_kernels_notop.h5\n",
            "58889256/58889256 [==============================] - 0s 0us/step\n",
            "Downloading data from https://storage.googleapis.com/tensorflow/keras-applications/mobilenet_v2/mobilenet_v2_weights_tf_dim_ordering_tf_kernels_1.0_224_no_top.h5\n",
            "9406464/9406464 [==============================] - 0s 0us/step\n"
          ]
        }
      ]
    },
    {
      "cell_type": "markdown",
      "source": [
        "Next, we freeze the CNN layers to use the base model as the feature extractor:"
      ],
      "metadata": {
        "id": "wbIvfazcaFK-"
      }
    },
    {
      "cell_type": "code",
      "source": [
        "for layer in vgg.layers:\n",
        "  layer.trainable = False\n",
        "\n",
        "for layer in mobileNet.layers:\n",
        "  layer.trainable = False"
      ],
      "metadata": {
        "id": "JxnU3QRjaT4B"
      },
      "execution_count": null,
      "outputs": []
    },
    {
      "cell_type": "markdown",
      "source": [
        "## Building Model 1\n",
        "\n",
        "The model 1 consists of Flatten layer, then we added two Dense layers with one Dropout layer as well."
      ],
      "metadata": {
        "id": "RZ1D-ZtZbEQK"
      }
    },
    {
      "cell_type": "code",
      "source": [
        "model1 = tf.keras.Sequential([vgg,\n",
        "                             tf.keras.layers.Flatten(),\n",
        "                             tf.keras.layers.Dense(32, activation=\"relu\"),\n",
        "                             tf.keras.layers.Dropout(0.2),\n",
        "                             tf.keras.layers.Dense(1, activation=\"sigmoid\")\n",
        "                             ])"
      ],
      "metadata": {
        "id": "SvSjxbg5bOAT"
      },
      "execution_count": null,
      "outputs": []
    },
    {
      "cell_type": "markdown",
      "source": [
        "### Compile the Model1\n",
        "\n",
        "The model is compiled with the Adam optimizer and binary crossentropy loss function, which is appropriate for binary classification tasks. The model's performance will be evaluated based on accuracy."
      ],
      "metadata": {
        "id": "C_PhT4yh3n5l"
      }
    },
    {
      "cell_type": "code",
      "source": [
        "model1.compile(optimizer='adam',\n",
        "              loss='binary_crossentropy',\n",
        "              metrics=['accuracy'])"
      ],
      "metadata": {
        "id": "fp2XR0XP35ez"
      },
      "execution_count": null,
      "outputs": []
    },
    {
      "cell_type": "markdown",
      "source": [
        "### Training Model 1\n",
        "\n",
        "Finally, the model is trained for a defined number of epochs using the training dataset, with validation performed on the validation dataset. The 'fit' method returns a history object containing training and validation loss and accuracy for each epoch, which can be used for analysis of the model's performance over time."
      ],
      "metadata": {
        "id": "yFVQGOmn36tw"
      }
    },
    {
      "cell_type": "code",
      "source": [
        "steps_per_epoch = int(len(train_set)/batch_size)\n",
        "\n",
        "history = model1.fit(train_set,\n",
        "                     validation_data=test_set,\n",
        "                     steps_per_epoch=steps_per_epoch,\n",
        "                     epochs = 10,\n",
        "                     verbose = 1)"
      ],
      "metadata": {
        "colab": {
          "base_uri": "https://localhost:8080/"
        },
        "id": "dO0k4CAy4QPh",
        "outputId": "477f6e65-4200-473f-eac0-fcc778027e29"
      },
      "execution_count": null,
      "outputs": [
        {
          "output_type": "stream",
          "name": "stdout",
          "text": [
            "Epoch 1/10\n",
            "22/22 [==============================] - 2027s 96s/step - loss: 0.6491 - accuracy: 0.6932 - val_loss: 0.4068 - val_accuracy: 0.8436\n",
            "Epoch 2/10\n",
            "22/22 [==============================] - 2022s 95s/step - loss: 0.4482 - accuracy: 0.8324 - val_loss: 0.3933 - val_accuracy: 0.8456\n",
            "Epoch 3/10\n",
            "22/22 [==============================] - 2019s 95s/step - loss: 0.4375 - accuracy: 0.8224 - val_loss: 0.4711 - val_accuracy: 0.7982\n",
            "Epoch 4/10\n",
            "13/22 [================>.............] - ETA: 2:57 - loss: 0.3758 - accuracy: 0.8558"
          ]
        }
      ]
    },
    {
      "cell_type": "code",
      "source": [
        "model1.summary()"
      ],
      "metadata": {
        "id": "PvKwU9jE5VSn"
      },
      "execution_count": null,
      "outputs": []
    },
    {
      "cell_type": "markdown",
      "source": [
        "### Evaluating the performance of model 1"
      ],
      "metadata": {
        "id": "QWJvGhyw8tLK"
      }
    },
    {
      "cell_type": "code",
      "source": [
        "loss, accuracy = model1.evaluate(test_set, verbose=False)\n",
        "print(\"Test Accuracy: {:.4f}\".format(accuracy))"
      ],
      "metadata": {
        "id": "Rt281bzW8RJZ"
      },
      "execution_count": null,
      "outputs": []
    },
    {
      "cell_type": "markdown",
      "source": [
        "### Visualizing training results for model 1\n",
        "\n",
        "The plots of loss and accuracy on the training and validation sets."
      ],
      "metadata": {
        "id": "MU4PlMT78zc_"
      }
    },
    {
      "cell_type": "code",
      "source": [
        "def plot_graphs(history, string):\n",
        "  plt.plot(history.history[string])\n",
        "  plt.plot(history.history['val_'+string])\n",
        "  plt.xlabel(\"Epochs\")\n",
        "  plt.ylabel(string)\n",
        "  plt.legend([string, 'val_'+string])\n",
        "  plt.show()\n",
        "\n",
        "plot_graphs(history, \"accuracy\")\n",
        "plot_graphs(history, \"loss\")"
      ],
      "metadata": {
        "id": "kImfrzdh83dQ"
      },
      "execution_count": null,
      "outputs": []
    },
    {
      "cell_type": "markdown",
      "source": [
        "## Building Model 2"
      ],
      "metadata": {
        "id": "W_S0Ig9jlQwW"
      }
    },
    {
      "cell_type": "code",
      "source": [
        "model2 = tf.keras.Sequential([mobileNet,\n",
        "                             tf.keras.layers.Flatten(),\n",
        "                             tf.keras.layers.Dense(32, activation=\"relu\"),\n",
        "                             tf.keras.layers.Dropout(0.2),\n",
        "                             tf.keras.layers.Dense(1, activation=\"sigmoid\")\n",
        "                             ])"
      ],
      "metadata": {
        "id": "cn_vljwklSxG"
      },
      "execution_count": null,
      "outputs": []
    },
    {
      "cell_type": "markdown",
      "source": [
        "### Compiling Model 2"
      ],
      "metadata": {
        "id": "GRNBStwFlaoh"
      }
    },
    {
      "cell_type": "code",
      "source": [
        "model2.compile(optimizer='adam',\n",
        "              loss='binary_crossentropy',\n",
        "              metrics=['accuracy'])"
      ],
      "metadata": {
        "id": "J8VRlPQZlcvk"
      },
      "execution_count": null,
      "outputs": []
    },
    {
      "cell_type": "markdown",
      "source": [
        "### Training Model 2"
      ],
      "metadata": {
        "id": "7hxVwWXIlh_g"
      }
    },
    {
      "cell_type": "code",
      "source": [
        "history = model2.fit(train_set,\n",
        "                     validation_data=test_set,\n",
        "                     steps_per_epoch=steps_per_epoch,\n",
        "                     epochs = 10,\n",
        "                     verbose = 1)"
      ],
      "metadata": {
        "id": "5PeA9XIrljaD"
      },
      "execution_count": null,
      "outputs": []
    },
    {
      "cell_type": "markdown",
      "source": [
        "### Evaluating Model 2"
      ],
      "metadata": {
        "id": "GH7ZWZZ9l8JW"
      }
    },
    {
      "cell_type": "code",
      "source": [
        "loss, accuracy = model2.evaluate(test_set, verbose=False)\n",
        "print(\"Test Accuracy: {:.4f}\".format(accuracy))"
      ],
      "metadata": {
        "id": "bfH4GXU3l-QP"
      },
      "execution_count": null,
      "outputs": []
    },
    {
      "cell_type": "markdown",
      "source": [
        "## Validating the models\n",
        "\n",
        "Validating the models to check if they can accurately classify some of the unseen images."
      ],
      "metadata": {
        "id": "Io40dKa14hp-"
      }
    },
    {
      "cell_type": "code",
      "source": [
        "# Function to prepare and predict the class of an image\n",
        "def predict_category(img_path, model):\n",
        "    # Load the image\n",
        "    img = image.load_img(img_path, target_size=(224, 224))\n",
        "\n",
        "    plt.axis(\"off\")\n",
        "    plt.imshow(img)\n",
        "    plt.show()\n",
        "\n",
        "    # Convert the image to a numpy array\n",
        "    img_array = image.img_to_array(img)\n",
        "\n",
        "    # Expand dimensions to match the shape of model input\n",
        "    img_array = np.expand_dims(img_array, axis=0)\n",
        "\n",
        "    # Predict (data augmentation is applied automatically)\n",
        "    prediction = model.predict(img_array)\n",
        "\n",
        "    print(prediction)\n",
        "\n",
        "    if prediction[0][0] == 1:\n",
        "      predicted_class = 'Recyclable Waste'\n",
        "    else:\n",
        "      predicted_class = 'Organic Waste'\n",
        "\n",
        "    return predicted_class"
      ],
      "metadata": {
        "id": "vyb7Ycvq4kwV"
      },
      "execution_count": null,
      "outputs": []
    },
    {
      "cell_type": "code",
      "source": [
        "img_path = 'O_9973.jpg'\n",
        "predicted_class = predict_category(img_path, model2)\n",
        "print(f'Predicted: {predicted_class}')"
      ],
      "metadata": {
        "id": "7jPZuOkb2QYq"
      },
      "execution_count": null,
      "outputs": []
    }
  ]
}