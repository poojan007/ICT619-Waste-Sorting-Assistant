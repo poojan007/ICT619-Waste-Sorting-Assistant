{
  "cells": [
    {
      "cell_type": "markdown",
      "metadata": {
        "id": "b0ShL6qcvVyq"
      },
      "source": [
        "# SmartSort Model\n",
        "This model performs a process for data augmentation, and training a convolutional neural network (CNN) using Transfer Learning using VGG16 and MobileNetV2 on image data for classifying waste images into recyclable and organic.\n",
        "\n"
      ]
    },
    {
      "cell_type": "markdown",
      "metadata": {
        "id": "ZIsHjRzUC9tA"
      },
      "source": [
        "## Upload file by mounting Google Drive"
      ]
    },
    {
      "cell_type": "code",
      "execution_count": 1,
      "metadata": {
        "colab": {
          "base_uri": "https://localhost:8080/"
        },
        "id": "I4e1s34DC5pL",
        "outputId": "86fd6e1c-6430-428e-915d-82871ae53764"
      },
      "outputs": [
        {
          "name": "stdout",
          "output_type": "stream",
          "text": [
            "Mounted at /mntDrive\n"
          ]
        }
      ],
      "source": [
        "from google.colab import drive\n",
        "drive.mount('/mntDrive')"
      ]
    },
    {
      "cell_type": "code",
      "execution_count": 2,
      "metadata": {
        "id": "T-nkfjO9DDmo"
      },
      "outputs": [],
      "source": [
        "# load data from google drive and unzip it\n",
        "\n",
        "!unzip -q /mntDrive/MyDrive/ICT619-Dataset/archive.zip -d data"
      ]
    },
    {
      "cell_type": "markdown",
      "metadata": {
        "id": "QvVnE9s_5XGU"
      },
      "source": [
        "## Importing Libraries"
      ]
    },
    {
      "cell_type": "code",
      "execution_count": 2,
      "metadata": {
        "id": "p9tM2Dzlm_PO"
      },
      "outputs": [],
      "source": [
        "import os\n",
        "import tensorflow as tf\n",
        "from keras.layers import Input, Lambda, Dense, Flatten, Rescaling\n",
        "from keras.models import Model\n",
        "from keras.applications.vgg16 import VGG16\n",
        "from keras.applications.vgg16 import preprocess_input\n",
        "from keras.preprocessing import image\n",
        "from tensorflow.keras.preprocessing.image import ImageDataGenerator\n",
        "from keras.models import Sequential\n",
        "from keras.models import load_model\n",
        "import numpy as np\n",
        "import matplotlib.pyplot as plt\n",
        "from PIL import Image\n",
        "from glob import glob\n",
        "from keras.metrics import Precision, Recall"
      ]
    },
    {
      "cell_type": "markdown",
      "metadata": {
        "id": "jpts8eGZwFpd"
      },
      "source": [
        "## Define dataset paths"
      ]
    },
    {
      "cell_type": "code",
      "execution_count": 3,
      "metadata": {
        "id": "XMkE9NhgwIyU"
      },
      "outputs": [],
      "source": [
        "### Google Colab Setup ###\n",
        "train_dir = '/content/data/DATASET/TRAIN'\n",
        "test_dir = '/content/data/DATASET/TEST'\n",
        "\n",
        "### Local Setup ###\n",
        "# train_dir = 'C:\\\\Users\\\\pooja\\\\Downloads\\\\archive\\\\DATASET\\\\TRAIN'\n",
        "# test_dir = 'C:\\\\Users\\\\pooja\\\\Downloads\\\\archive\\\\DATASET\\\\TEST'"
      ]
    },
    {
      "cell_type": "markdown",
      "metadata": {
        "id": "6hAu5T0O14wK"
      },
      "source": [
        "## Data Analysis\n",
        "\n",
        "The dataset contains images divided into training and test sets all in jpg format. Therefore, no data labeling was required as the images were already labelled into two categories 'R' and 'O', recyclable and Organic, respectively."
      ]
    },
    {
      "cell_type": "code",
      "execution_count": 4,
      "metadata": {
        "colab": {
          "base_uri": "https://localhost:8080/"
        },
        "id": "GFWIa-xe2OUp",
        "outputId": "83048d0d-c451-4330-ae85-36a745603b4b"
      },
      "outputs": [
        {
          "name": "stdout",
          "output_type": "stream",
          "text": [
            "Number of categories: 2\n",
            "Names of categories: ['O', 'R']\n"
          ]
        }
      ],
      "source": [
        "class_names = os.listdir((train_dir))\n",
        "print(f'Number of categories: {len(class_names)}')\n",
        "print(f'Names of categories: {class_names}')"
      ]
    },
    {
      "cell_type": "code",
      "execution_count": 5,
      "metadata": {
        "colab": {
          "base_uri": "https://localhost:8080/"
        },
        "id": "AlzbEtGqGveW",
        "outputId": "1c27ac5c-c9f2-4566-bcd3-bc04a7ffb40c"
      },
      "outputs": [
        {
          "name": "stdout",
          "output_type": "stream",
          "text": [
            "Total number of images in train set: 22564\n",
            "Total number of images in test set: 2513\n"
          ]
        }
      ],
      "source": [
        "def count_images(directory, classes):\n",
        "    return {class_name: len(glob(os.path.join(directory, class_name, '*'))) for class_name in classes}\n",
        "\n",
        "count_train = count_images(train_dir, class_names)\n",
        "count_test = count_images(test_dir, class_names)\n",
        "\n",
        "total_train_images = sum(count_train.values())\n",
        "total_test_images = sum(count_test.values())\n",
        "\n",
        "print(f'Total number of images in train set: {total_train_images}')\n",
        "print(f'Total number of images in test set: {total_test_images}')"
      ]
    },
    {
      "cell_type": "markdown",
      "metadata": {
        "id": "plNcKT_VQNOD"
      },
      "source": [
        "Plotting number of images in train set:"
      ]
    },
    {
      "cell_type": "code",
      "execution_count": 6,
      "metadata": {
        "colab": {
          "base_uri": "https://localhost:8080/",
          "height": 807
        },
        "id": "ESRT5450QQxe",
        "outputId": "f082c729-3d20-42d1-9b1d-358d77b54cf2"
      },
      "outputs": [
        {
          "data": {
            "image/png": "[encoded data removed]",
            "text/plain": [
              "<Figure size 1000x800 with 1 Axes>"
            ]
          },
          "metadata": {},
          "output_type": "display_data"
        }
      ],
      "source": [
        "classes = list(count_train.keys())  # Extract class names\n",
        "train_counts = [count_train[class_name] for class_name in classes]  # Extract counts for each class\n",
        "\n",
        "plt.figure(figsize=(10, 8))  # Optional: Adjusts the figure size\n",
        "plt.bar(classes, train_counts, color='skyblue')  # Creates the bar plot\n",
        "plt.xlabel('Class Names')  # X-axis label\n",
        "plt.ylabel('Number of Images')  # Y-axis label\n",
        "plt.xticks(rotation=45, ha='right')  # Rotate class names for better readability\n",
        "plt.title('Number of Images per Class in Training Set')  # Chart title\n",
        "plt.tight_layout()  # Adjust layout to not cut off labels\n",
        "\n",
        "plt.show()  # Display the plot"
      ]
    },
    {
      "cell_type": "markdown",
      "metadata": {
        "id": "bfgrfohBRmkL"
      },
      "source": [
        "Plotting number of images in the test set:"
      ]
    },
    {
      "cell_type": "code",
      "execution_count": 7,
      "metadata": {
        "colab": {
          "base_uri": "https://localhost:8080/",
          "height": 807
        },
        "id": "tEoJPqIeRpbg",
        "outputId": "a872670a-8f84-4a23-db0d-a3da16802746"
      },
      "outputs": [
        {
          "data": {
            "image/png": "[encoded data removed]",
            "text/plain": [
              "<Figure size 1000x800 with 1 Axes>"
            ]
          },
          "metadata": {},
          "output_type": "display_data"
        }
      ],
      "source": [
        "classes = list(count_test.keys())  # Extract class names\n",
        "train_counts = [count_test[class_name] for class_name in classes]  # Extract counts for each class\n",
        "\n",
        "plt.figure(figsize=(10, 8))  # Optional: Adjusts the figure size\n",
        "plt.bar(classes, train_counts, color='skyblue')  # Creates the bar plot\n",
        "plt.xlabel('Class Names')  # X-axis label\n",
        "plt.ylabel('Number of Images')  # Y-axis label\n",
        "plt.xticks(rotation=45, ha='right')  # Rotate class names for better readability\n",
        "plt.title('Number of Images per Class in Test Set')  # Chart title\n",
        "plt.tight_layout()  # Adjust layout to not cut off labels\n",
        "\n",
        "plt.show()  # Display the plot"
      ]
    },
    {
      "cell_type": "markdown",
      "metadata": {
        "id": "JzbNRgaF2XyB"
      },
      "source": [
        "## Data preparation\n",
        "\n",
        "We perform data augmentation on our dataset. To develop a transformation that rescales the images and applies data augmentation, we utilized ImageDataGenerator. We only augment the training data. The validation data is only rescaled."
      ]
    },
    {
      "cell_type": "code",
      "execution_count": 8,
      "metadata": {
        "id": "CQ5Xypwg2vnj"
      },
      "outputs": [],
      "source": [
        "train_datagen = ImageDataGenerator(rotation_range=10,\n",
        "                                   width_shift_range=0.2,\n",
        "                                   height_shift_range=0.2,\n",
        "                                   rescale = 1./255,\n",
        "                                   shear_range = 0.2,\n",
        "                                   zoom_range = 0.2,\n",
        "                                   horizontal_flip = True,\n",
        "                                   vertical_flip=True)\n",
        "\n",
        "test_datagen = ImageDataGenerator(rescale = 1./255)\n"
      ]
    },
    {
      "cell_type": "markdown",
      "metadata": {
        "id": "1ly4jfkbT-7J"
      },
      "source": [
        "Now we split the data into training and test sets and change the image size to 224."
      ]
    },
    {
      "cell_type": "code",
      "execution_count": 9,
      "metadata": {
        "colab": {
          "base_uri": "https://localhost:8080/"
        },
        "id": "tEHBujtQUPBa",
        "outputId": "99f7ec3b-3194-418f-c4b5-06aa5cfcfbf6"
      },
      "outputs": [
        {
          "name": "stdout",
          "output_type": "stream",
          "text": [
            "Found 22564 images belonging to 2 classes.\n",
            "Found 2513 images belonging to 2 classes.\n"
          ]
        }
      ],
      "source": [
        "batch_size = 32\n",
        "image_size = (224, 224)\n",
        "\n",
        "train_set = train_datagen.flow_from_directory(train_dir,\n",
        "                                                 target_size = image_size,\n",
        "                                                 batch_size = batch_size,\n",
        "                                                 class_mode = 'binary')\n",
        "\n",
        "test_set = test_datagen.flow_from_directory(test_dir,\n",
        "                                            target_size = image_size,\n",
        "                                            batch_size = batch_size,\n",
        "                                            class_mode = 'binary')"
      ]
    },
    {
      "cell_type": "code",
      "execution_count": 10,
      "metadata": {
        "colab": {
          "base_uri": "https://localhost:8080/"
        },
        "id": "iDODdrneVYGx",
        "outputId": "efc5724f-af23-493b-b071-bdb66b923065"
      },
      "outputs": [
        {
          "data": {
            "text/plain": [
              "{'O': 0, 'R': 1}"
            ]
          },
          "execution_count": 10,
          "metadata": {},
          "output_type": "execute_result"
        }
      ],
      "source": [
        "train_set.class_indices"
      ]
    },
    {
      "cell_type": "code",
      "execution_count": 11,
      "metadata": {
        "colab": {
          "base_uri": "https://localhost:8080/"
        },
        "id": "ry47CjluVjJk",
        "outputId": "b78759bd-3e88-4443-b71a-fe7cb48251a6"
      },
      "outputs": [
        {
          "data": {
            "text/plain": [
              "(224, 224, 3)"
            ]
          },
          "execution_count": 11,
          "metadata": {},
          "output_type": "execute_result"
        }
      ],
      "source": [
        "train_set.image_shape"
      ]
    },
    {
      "cell_type": "code",
      "execution_count": 12,
      "metadata": {
        "colab": {
          "base_uri": "https://localhost:8080/"
        },
        "id": "Jj9z3X-1Vm6o",
        "outputId": "51da5ad7-19fe-4f75-ec9d-36ed7dd3f92a"
      },
      "outputs": [
        {
          "data": {
            "text/plain": [
              "(224, 224, 3)"
            ]
          },
          "execution_count": 12,
          "metadata": {},
          "output_type": "execute_result"
        }
      ],
      "source": [
        "test_set.image_shape"
      ]
    },
    {
      "cell_type": "markdown",
      "metadata": {
        "id": "Y9uKJDJ23Nt3"
      },
      "source": [
        "## Model Building\n",
        "\n",
        "Building the CNN model architecture. It starts with building a model by using transfer learning with pre-trained VGG16 & MobileNetV2 models."
      ]
    },
    {
      "cell_type": "code",
      "execution_count": 13,
      "metadata": {
        "colab": {
          "base_uri": "https://localhost:8080/"
        },
        "id": "cNYPKyoc3ltm",
        "outputId": "84ea363e-8944-46a1-94ad-ee248a6f19db"
      },
      "outputs": [],
      "source": [
        "image_shape = (224, 224, 3)\n",
        "\n",
        "vgg = tf.keras.applications.VGG16(input_shape=image_shape,\n",
        "                                         include_top=False,\n",
        "                                         weights='imagenet')\n",
        "\n",
        "mobileNet = tf.keras.applications.MobileNetV2(input_shape=image_shape,\n",
        "                                         include_top=False,\n",
        "                                         weights='imagenet')"
      ]
    },
    {
      "cell_type": "markdown",
      "metadata": {
        "id": "wbIvfazcaFK-"
      },
      "source": [
        "Next, we freeze the CNN layers to use the base model as the feature extractor:"
      ]
    },
    {
      "cell_type": "code",
      "execution_count": 14,
      "metadata": {
        "id": "JxnU3QRjaT4B"
      },
      "outputs": [],
      "source": [
        "for layer in vgg.layers:\n",
        "  layer.trainable = False\n",
        "\n",
        "for layer in mobileNet.layers:\n",
        "  layer.trainable = False"
      ]
    },
    {
      "cell_type": "markdown",
      "metadata": {
        "id": "RZ1D-ZtZbEQK"
      },
      "source": [
        "## Building Model 1\n",
        "\n",
        "The model 1 consists of Flatten layer, then we added two Dense layers with one Dropout layer as well."
      ]
    },
    {
      "cell_type": "code",
      "execution_count": 15,
      "metadata": {
        "id": "SvSjxbg5bOAT"
      },
      "outputs": [],
      "source": [
        "input_layer = tf.keras.Input(shape=(224, 224, 3))\n",
        "\n",
        "# Use the VGG model as a layer in a functional manner\n",
        "x = vgg(input_layer)\n",
        "x = tf.keras.layers.Flatten()(x)\n",
        "x = tf.keras.layers.Dense(32, activation=\"relu\")(x)\n",
        "x = tf.keras.layers.Dropout(0.5)(x)  # Adjusted to match your dropout rate\n",
        "output_layer = tf.keras.layers.Dense(1, activation='sigmoid')(x)\n",
        "\n",
        "# Create a new model\n",
        "model1 = tf.keras.Model(inputs=input_layer, outputs=output_layer)"
      ]
    },
    {
      "cell_type": "markdown",
      "metadata": {
        "id": "C_PhT4yh3n5l"
      },
      "source": [
        "### Compile the Model1\n",
        "\n",
        "The model is compiled with the Adam optimizer and binary crossentropy loss function, which is appropriate for binary classification tasks. The model's performance will be evaluated based on accuracy."
      ]
    },
    {
      "cell_type": "code",
      "execution_count": 16,
      "metadata": {
        "id": "fp2XR0XP35ez"
      },
      "outputs": [],
      "source": [
        "model1.compile(optimizer='adam',\n",
        "              loss='binary_crossentropy',\n",
        "              metrics=['accuracy'])"
      ]
    },
    {
      "cell_type": "markdown",
      "metadata": {
        "id": "yFVQGOmn36tw"
      },
      "source": [
        "### Training Model 1\n",
        "\n",
        "Finally, the model is trained for a defined number of epochs using the training dataset, with validation performed on the validation dataset. The 'fit' method returns a history object containing training and validation loss and accuracy for each epoch, which can be used for analysis of the model's performance over time."
      ]
    },
    {
      "cell_type": "code",
      "execution_count": 17,
      "metadata": {
        "colab": {
          "base_uri": "https://localhost:8080/"
        },
        "id": "dO0k4CAy4QPh",
        "outputId": "9747de52-2b3b-47f4-97be-5ca698fc0855"
      },
      "outputs": [
        {
          "name": "stdout",
          "output_type": "stream",
          "text": [
            "Epoch 1/10\n"
          ]
        },
        {
          "name": "stderr",
          "output_type": "stream",
          "text": [
            "C:\\Users\\pooja\\AppData\\Roaming\\Python\\Python311\\site-packages\\keras\\src\\trainers\\data_adapters\\py_dataset_adapter.py:120: UserWarning: Your `PyDataset` class should call `super().__init__(**kwargs)` in its constructor. `**kwargs` can include `workers`, `use_multiprocessing`, `max_queue_size`. Do not pass these arguments to `fit()`, as they will be ignored.\n",
            "  self._warn_if_super_not_called()\n"
          ]
        },
        {
          "name": "stdout",
          "output_type": "stream",
          "text": [
            "\u001b[1m22/22\u001b[0m \u001b[32m━━━━━━━━━━━━━━━━━━━━\u001b[0m\u001b[37m\u001b[0m \u001b[1m169s\u001b[0m 8s/step - accuracy: 0.6556 - loss: 0.7302 - val_accuracy: 0.8579 - val_loss: 0.4522\n",
            "Epoch 2/10\n",
            "\u001b[1m22/22\u001b[0m \u001b[32m━━━━━━━━━━━━━━━━━━━━\u001b[0m\u001b[37m\u001b[0m \u001b[1m162s\u001b[0m 8s/step - accuracy: 0.6549 - loss: 0.5598 - val_accuracy: 0.8261 - val_loss: 0.4722\n",
            "Epoch 3/10\n",
            "\u001b[1m22/22\u001b[0m \u001b[32m━━━━━━━━━━━━━━━━━━━━\u001b[0m\u001b[37m\u001b[0m \u001b[1m163s\u001b[0m 8s/step - accuracy: 0.7594 - loss: 0.4962 - val_accuracy: 0.8655 - val_loss: 0.4041\n",
            "Epoch 4/10\n",
            "\u001b[1m22/22\u001b[0m \u001b[32m━━━━━━━━━━━━━━━━━━━━\u001b[0m\u001b[37m\u001b[0m \u001b[1m161s\u001b[0m 8s/step - accuracy: 0.7675 - loss: 0.5043 - val_accuracy: 0.8607 - val_loss: 0.3729\n",
            "Epoch 5/10\n",
            "\u001b[1m22/22\u001b[0m \u001b[32m━━━━━━━━━━━━━━━━━━━━\u001b[0m\u001b[37m\u001b[0m \u001b[1m161s\u001b[0m 8s/step - accuracy: 0.7433 - loss: 0.5221 - val_accuracy: 0.8245 - val_loss: 0.4531\n",
            "Epoch 6/10\n",
            "\u001b[1m22/22\u001b[0m \u001b[32m━━━━━━━━━━━━━━━━━━━━\u001b[0m\u001b[37m\u001b[0m \u001b[1m162s\u001b[0m 8s/step - accuracy: 0.7675 - loss: 0.4657 - val_accuracy: 0.8532 - val_loss: 0.4146\n",
            "Epoch 7/10\n",
            "\u001b[1m22/22\u001b[0m \u001b[32m━━━━━━━━━━━━━━━━━━━━\u001b[0m\u001b[37m\u001b[0m \u001b[1m163s\u001b[0m 8s/step - accuracy: 0.7814 - loss: 0.4776 - val_accuracy: 0.8579 - val_loss: 0.4102\n",
            "Epoch 8/10\n",
            "\u001b[1m22/22\u001b[0m \u001b[32m━━━━━━━━━━━━━━━━━━━━\u001b[0m\u001b[37m\u001b[0m \u001b[1m163s\u001b[0m 8s/step - accuracy: 0.7677 - loss: 0.5117 - val_accuracy: 0.8715 - val_loss: 0.4010\n",
            "Epoch 9/10\n",
            "\u001b[1m22/22\u001b[0m \u001b[32m━━━━━━━━━━━━━━━━━━━━\u001b[0m\u001b[37m\u001b[0m \u001b[1m161s\u001b[0m 8s/step - accuracy: 0.7641 - loss: 0.4880 - val_accuracy: 0.8464 - val_loss: 0.3857\n",
            "Epoch 10/10\n",
            "\u001b[1m22/22\u001b[0m \u001b[32m━━━━━━━━━━━━━━━━━━━━\u001b[0m\u001b[37m\u001b[0m \u001b[1m162s\u001b[0m 8s/step - accuracy: 0.7838 - loss: 0.4630 - val_accuracy: 0.8492 - val_loss: 0.3920\n"
          ]
        }
      ],
      "source": [
        "steps_per_epoch = int(len(train_set)/batch_size)\n",
        "\n",
        "tf.random.set_seed(42)\n",
        "\n",
        "history = model1.fit(train_set,\n",
        "                     validation_data=test_set,\n",
        "                     steps_per_epoch=steps_per_epoch,\n",
        "                     epochs = 10,\n",
        "                     verbose = 1)"
      ]
    },
    {
      "cell_type": "code",
      "execution_count": 18,
      "metadata": {
        "id": "PvKwU9jE5VSn",
        "outputId": "d1499e18-4727-419a-d375-3a1167eb7266"
      },
      "outputs": [
        {
          "data": {
            "text/html": [
              "<pre style=\"white-space:pre;overflow-x:auto;line-height:normal;font-family:Menlo,'DejaVu Sans Mono',consolas,'Courier New',monospace\"><span style=\"font-weight: bold\">Model: \"functional_1\"</span>\n",
              "</pre>\n"
            ],
            "text/plain": [
              "\u001b[1mModel: \"functional_1\"\u001b[0m\n"
            ]
          },
          "metadata": {},
          "output_type": "display_data"
        },
        {
          "data": {
            "text/html": [
              "<pre style=\"white-space:pre;overflow-x:auto;line-height:normal;font-family:Menlo,'DejaVu Sans Mono',consolas,'Courier New',monospace\">┏━━━━━━━━━━━━━━━━━━━━━━━━━━━━━━━━━┳━━━━━━━━━━━━━━━━━━━━━━━━┳━━━━━━━━━━━━━━━┓\n",
              "┃<span style=\"font-weight: bold\"> Layer (type)                    </span>┃<span style=\"font-weight: bold\"> Output Shape           </span>┃<span style=\"font-weight: bold\">       Param # </span>┃\n",
              "┡━━━━━━━━━━━━━━━━━━━━━━━━━━━━━━━━━╇━━━━━━━━━━━━━━━━━━━━━━━━╇━━━━━━━━━━━━━━━┩\n",
              "│ input_layer_2 (<span style=\"color: #0087ff; text-decoration-color: #0087ff\">InputLayer</span>)      │ (<span style=\"color: #00d7ff; text-decoration-color: #00d7ff\">None</span>, <span style=\"color: #00af00; text-decoration-color: #00af00\">224</span>, <span style=\"color: #00af00; text-decoration-color: #00af00\">224</span>, <span style=\"color: #00af00; text-decoration-color: #00af00\">3</span>)    │             <span style=\"color: #00af00; text-decoration-color: #00af00\">0</span> │\n",
              "├─────────────────────────────────┼────────────────────────┼───────────────┤\n",
              "│ vgg16 (<span style=\"color: #0087ff; text-decoration-color: #0087ff\">Functional</span>)              │ (<span style=\"color: #00d7ff; text-decoration-color: #00d7ff\">None</span>, <span style=\"color: #00af00; text-decoration-color: #00af00\">7</span>, <span style=\"color: #00af00; text-decoration-color: #00af00\">7</span>, <span style=\"color: #00af00; text-decoration-color: #00af00\">512</span>)      │    <span style=\"color: #00af00; text-decoration-color: #00af00\">14,714,688</span> │\n",
              "├─────────────────────────────────┼────────────────────────┼───────────────┤\n",
              "│ flatten (<span style=\"color: #0087ff; text-decoration-color: #0087ff\">Flatten</span>)               │ (<span style=\"color: #00d7ff; text-decoration-color: #00d7ff\">None</span>, <span style=\"color: #00af00; text-decoration-color: #00af00\">25088</span>)          │             <span style=\"color: #00af00; text-decoration-color: #00af00\">0</span> │\n",
              "├─────────────────────────────────┼────────────────────────┼───────────────┤\n",
              "│ dense (<span style=\"color: #0087ff; text-decoration-color: #0087ff\">Dense</span>)                   │ (<span style=\"color: #00d7ff; text-decoration-color: #00d7ff\">None</span>, <span style=\"color: #00af00; text-decoration-color: #00af00\">32</span>)             │       <span style=\"color: #00af00; text-decoration-color: #00af00\">802,848</span> │\n",
              "├─────────────────────────────────┼────────────────────────┼───────────────┤\n",
              "│ dropout (<span style=\"color: #0087ff; text-decoration-color: #0087ff\">Dropout</span>)               │ (<span style=\"color: #00d7ff; text-decoration-color: #00d7ff\">None</span>, <span style=\"color: #00af00; text-decoration-color: #00af00\">32</span>)             │             <span style=\"color: #00af00; text-decoration-color: #00af00\">0</span> │\n",
              "├─────────────────────────────────┼────────────────────────┼───────────────┤\n",
              "│ dense_1 (<span style=\"color: #0087ff; text-decoration-color: #0087ff\">Dense</span>)                 │ (<span style=\"color: #00d7ff; text-decoration-color: #00d7ff\">None</span>, <span style=\"color: #00af00; text-decoration-color: #00af00\">1</span>)              │            <span style=\"color: #00af00; text-decoration-color: #00af00\">33</span> │\n",
              "└─────────────────────────────────┴────────────────────────┴───────────────┘\n",
              "</pre>\n"
            ],
            "text/plain": [
              "┏━━━━━━━━━━━━━━━━━━━━━━━━━━━━━━━━━┳━━━━━━━━━━━━━━━━━━━━━━━━┳━━━━━━━━━━━━━━━┓\n",
              "┃\u001b[1m \u001b[0m\u001b[1mLayer (type)                   \u001b[0m\u001b[1m \u001b[0m┃\u001b[1m \u001b[0m\u001b[1mOutput Shape          \u001b[0m\u001b[1m \u001b[0m┃\u001b[1m \u001b[0m\u001b[1m      Param #\u001b[0m\u001b[1m \u001b[0m┃\n",
              "┡━━━━━━━━━━━━━━━━━━━━━━━━━━━━━━━━━╇━━━━━━━━━━━━━━━━━━━━━━━━╇━━━━━━━━━━━━━━━┩\n",
              "│ input_layer_2 (\u001b[38;5;33mInputLayer\u001b[0m)      │ (\u001b[38;5;45mNone\u001b[0m, \u001b[38;5;34m224\u001b[0m, \u001b[38;5;34m224\u001b[0m, \u001b[38;5;34m3\u001b[0m)    │             \u001b[38;5;34m0\u001b[0m │\n",
              "├─────────────────────────────────┼────────────────────────┼───────────────┤\n",
              "│ vgg16 (\u001b[38;5;33mFunctional\u001b[0m)              │ (\u001b[38;5;45mNone\u001b[0m, \u001b[38;5;34m7\u001b[0m, \u001b[38;5;34m7\u001b[0m, \u001b[38;5;34m512\u001b[0m)      │    \u001b[38;5;34m14,714,688\u001b[0m │\n",
              "├─────────────────────────────────┼────────────────────────┼───────────────┤\n",
              "│ flatten (\u001b[38;5;33mFlatten\u001b[0m)               │ (\u001b[38;5;45mNone\u001b[0m, \u001b[38;5;34m25088\u001b[0m)          │             \u001b[38;5;34m0\u001b[0m │\n",
              "├─────────────────────────────────┼────────────────────────┼───────────────┤\n",
              "│ dense (\u001b[38;5;33mDense\u001b[0m)                   │ (\u001b[38;5;45mNone\u001b[0m, \u001b[38;5;34m32\u001b[0m)             │       \u001b[38;5;34m802,848\u001b[0m │\n",
              "├─────────────────────────────────┼────────────────────────┼───────────────┤\n",
              "│ dropout (\u001b[38;5;33mDropout\u001b[0m)               │ (\u001b[38;5;45mNone\u001b[0m, \u001b[38;5;34m32\u001b[0m)             │             \u001b[38;5;34m0\u001b[0m │\n",
              "├─────────────────────────────────┼────────────────────────┼───────────────┤\n",
              "│ dense_1 (\u001b[38;5;33mDense\u001b[0m)                 │ (\u001b[38;5;45mNone\u001b[0m, \u001b[38;5;34m1\u001b[0m)              │            \u001b[38;5;34m33\u001b[0m │\n",
              "└─────────────────────────────────┴────────────────────────┴───────────────┘\n"
            ]
          },
          "metadata": {},
          "output_type": "display_data"
        },
        {
          "data": {
            "text/html": [
              "<pre style=\"white-space:pre;overflow-x:auto;line-height:normal;font-family:Menlo,'DejaVu Sans Mono',consolas,'Courier New',monospace\"><span style=\"font-weight: bold\"> Total params: </span><span style=\"color: #00af00; text-decoration-color: #00af00\">17,123,333</span> (65.32 MB)\n",
              "</pre>\n"
            ],
            "text/plain": [
              "\u001b[1m Total params: \u001b[0m\u001b[38;5;34m17,123,333\u001b[0m (65.32 MB)\n"
            ]
          },
          "metadata": {},
          "output_type": "display_data"
        },
        {
          "data": {
            "text/html": [
              "<pre style=\"white-space:pre;overflow-x:auto;line-height:normal;font-family:Menlo,'DejaVu Sans Mono',consolas,'Courier New',monospace\"><span style=\"font-weight: bold\"> Trainable params: </span><span style=\"color: #00af00; text-decoration-color: #00af00\">802,881</span> (3.06 MB)\n",
              "</pre>\n"
            ],
            "text/plain": [
              "\u001b[1m Trainable params: \u001b[0m\u001b[38;5;34m802,881\u001b[0m (3.06 MB)\n"
            ]
          },
          "metadata": {},
          "output_type": "display_data"
        },
        {
          "data": {
            "text/html": [
              "<pre style=\"white-space:pre;overflow-x:auto;line-height:normal;font-family:Menlo,'DejaVu Sans Mono',consolas,'Courier New',monospace\"><span style=\"font-weight: bold\"> Non-trainable params: </span><span style=\"color: #00af00; text-decoration-color: #00af00\">14,714,688</span> (56.13 MB)\n",
              "</pre>\n"
            ],
            "text/plain": [
              "\u001b[1m Non-trainable params: \u001b[0m\u001b[38;5;34m14,714,688\u001b[0m (56.13 MB)\n"
            ]
          },
          "metadata": {},
          "output_type": "display_data"
        },
        {
          "data": {
            "text/html": [
              "<pre style=\"white-space:pre;overflow-x:auto;line-height:normal;font-family:Menlo,'DejaVu Sans Mono',consolas,'Courier New',monospace\"><span style=\"font-weight: bold\"> Optimizer params: </span><span style=\"color: #00af00; text-decoration-color: #00af00\">1,605,764</span> (6.13 MB)\n",
              "</pre>\n"
            ],
            "text/plain": [
              "\u001b[1m Optimizer params: \u001b[0m\u001b[38;5;34m1,605,764\u001b[0m (6.13 MB)\n"
            ]
          },
          "metadata": {},
          "output_type": "display_data"
        }
      ],
      "source": [
        "model1.summary()"
      ]
    },
    {
      "cell_type": "markdown",
      "metadata": {
        "id": "QWJvGhyw8tLK"
      },
      "source": [
        "### Evaluating the performance of model 1"
      ]
    },
    {
      "cell_type": "code",
      "execution_count": 19,
      "metadata": {
        "id": "Rt281bzW8RJZ",
        "outputId": "2d9b0207-2573-4008-cf2d-2d8ecb03f826"
      },
      "outputs": [
        {
          "name": "stdout",
          "output_type": "stream",
          "text": [
            "Test Accuracy: 0.8492\n"
          ]
        }
      ],
      "source": [
        "loss, accuracy = model1.evaluate(test_set, verbose=False)\n",
        "print(\"Test Accuracy: {:.4f}\".format(accuracy))"
      ]
    },
    {
      "cell_type": "markdown",
      "metadata": {
        "id": "MU4PlMT78zc_"
      },
      "source": [
        "### Visualizing training results for model 1\n",
        "\n",
        "The plots of loss and accuracy on the training and validation sets."
      ]
    },
    {
      "cell_type": "code",
      "execution_count": 20,
      "metadata": {
        "id": "kImfrzdh83dQ",
        "outputId": "d9b5738c-795b-46d4-e786-1c7bda99c219"
      },
      "outputs": [
        {
          "data": {
            "image/png": "[encoded data removed]",
            "text/plain": [
              "<Figure size 640x480 with 1 Axes>"
            ]
          },
          "metadata": {},
          "output_type": "display_data"
        },
        {
          "data": {
            "image/png": "[encoded data removed]",
            "text/plain": [
              "<Figure size 640x480 with 1 Axes>"
            ]
          },
          "metadata": {},
          "output_type": "display_data"
        }
      ],
      "source": [
        "def plot_graphs(history, string):\n",
        "  plt.plot(history.history[string])\n",
        "  plt.plot(history.history['val_'+string])\n",
        "  plt.xlabel(\"Epochs\")\n",
        "  plt.ylabel(string)\n",
        "  plt.legend([string, 'val_'+string])\n",
        "  plt.show()\n",
        "\n",
        "plot_graphs(history, \"accuracy\")\n",
        "plot_graphs(history, \"loss\")"
      ]
    },
    {
      "cell_type": "markdown",
      "metadata": {
        "id": "W_S0Ig9jlQwW"
      },
      "source": [
        "## Building Model 2"
      ]
    },
    {
      "cell_type": "code",
      "execution_count": 21,
      "metadata": {
        "id": "cn_vljwklSxG"
      },
      "outputs": [],
      "source": [
        "x = mobileNet(input_layer)\n",
        "x = tf.keras.layers.Flatten()(x)\n",
        "x = tf.keras.layers.Dense(32, activation=\"relu\")(x)\n",
        "x = tf.keras.layers.Dropout(0.2)(x)\n",
        "output_layer = tf.keras.layers.Dense(1, activation='sigmoid')(x)\n",
        "\n",
        "# Create a new model\n",
        "model2 = tf.keras.Model(inputs=input_layer, outputs=output_layer)"
      ]
    },
    {
      "cell_type": "markdown",
      "metadata": {
        "id": "GRNBStwFlaoh"
      },
      "source": [
        "### Compiling Model 2"
      ]
    },
    {
      "cell_type": "code",
      "execution_count": 22,
      "metadata": {
        "id": "J8VRlPQZlcvk"
      },
      "outputs": [],
      "source": [
        "model2.compile(optimizer='adam',\n",
        "              loss='binary_crossentropy',\n",
        "              metrics=['accuracy'])"
      ]
    },
    {
      "cell_type": "markdown",
      "metadata": {
        "id": "7hxVwWXIlh_g"
      },
      "source": [
        "### Training Model 2"
      ]
    },
    {
      "cell_type": "code",
      "execution_count": 23,
      "metadata": {
        "id": "5PeA9XIrljaD",
        "outputId": "2a398697-723c-438d-fd38-3befc4a26812"
      },
      "outputs": [
        {
          "name": "stdout",
          "output_type": "stream",
          "text": [
            "Epoch 1/10\n",
            "\u001b[1m22/22\u001b[0m \u001b[32m━━━━━━━━━━━━━━━━━━━━\u001b[0m\u001b[37m\u001b[0m \u001b[1m69s\u001b[0m 3s/step - accuracy: 0.4387 - loss: 3.5569 - val_accuracy: 0.6029 - val_loss: 0.6898\n",
            "Epoch 2/10\n",
            "\u001b[1m22/22\u001b[0m \u001b[32m━━━━━━━━━━━━━━━━━━━━\u001b[0m\u001b[37m\u001b[0m \u001b[1m62s\u001b[0m 3s/step - accuracy: 0.6820 - loss: 0.6581 - val_accuracy: 0.7883 - val_loss: 0.6245\n",
            "Epoch 3/10\n",
            "\u001b[1m22/22\u001b[0m \u001b[32m━━━━━━━━━━━━━━━━━━━━\u001b[0m\u001b[37m\u001b[0m \u001b[1m63s\u001b[0m 3s/step - accuracy: 0.8239 - loss: 0.5739 - val_accuracy: 0.8404 - val_loss: 0.5734\n",
            "Epoch 4/10\n",
            "\u001b[1m22/22\u001b[0m \u001b[32m━━━━━━━━━━━━━━━━━━━━\u001b[0m\u001b[37m\u001b[0m \u001b[1m60s\u001b[0m 3s/step - accuracy: 0.7828 - loss: 0.6050 - val_accuracy: 0.8643 - val_loss: 0.5477\n",
            "Epoch 5/10\n",
            "\u001b[1m22/22\u001b[0m \u001b[32m━━━━━━━━━━━━━━━━━━━━\u001b[0m\u001b[37m\u001b[0m \u001b[1m60s\u001b[0m 3s/step - accuracy: 0.8151 - loss: 0.5525 - val_accuracy: 0.8544 - val_loss: 0.5524\n",
            "Epoch 6/10\n",
            "\u001b[1m22/22\u001b[0m \u001b[32m━━━━━━━━━━━━━━━━━━━━\u001b[0m\u001b[37m\u001b[0m \u001b[1m61s\u001b[0m 3s/step - accuracy: 0.8210 - loss: 0.5540 - val_accuracy: 0.8906 - val_loss: 0.5193\n",
            "Epoch 7/10\n",
            "\u001b[1m22/22\u001b[0m \u001b[32m━━━━━━━━━━━━━━━━━━━━\u001b[0m\u001b[37m\u001b[0m \u001b[1m59s\u001b[0m 3s/step - accuracy: 0.8008 - loss: 0.5121 - val_accuracy: 0.8683 - val_loss: 0.5377\n",
            "Epoch 8/10\n",
            "\u001b[1m22/22\u001b[0m \u001b[32m━━━━━━━━━━━━━━━━━━━━\u001b[0m\u001b[37m\u001b[0m \u001b[1m60s\u001b[0m 3s/step - accuracy: 0.8223 - loss: 0.5227 - val_accuracy: 0.8552 - val_loss: 0.5386\n",
            "Epoch 9/10\n",
            "\u001b[1m22/22\u001b[0m \u001b[32m━━━━━━━━━━━━━━━━━━━━\u001b[0m\u001b[37m\u001b[0m \u001b[1m61s\u001b[0m 3s/step - accuracy: 0.8462 - loss: 0.4991 - val_accuracy: 0.8739 - val_loss: 0.5183\n",
            "Epoch 10/10\n",
            "\u001b[1m22/22\u001b[0m \u001b[32m━━━━━━━━━━━━━━━━━━━━\u001b[0m\u001b[37m\u001b[0m \u001b[1m59s\u001b[0m 3s/step - accuracy: 0.8313 - loss: 0.5291 - val_accuracy: 0.7398 - val_loss: 0.6059\n"
          ]
        }
      ],
      "source": [
        "history = model2.fit(train_set,\n",
        "                     validation_data=test_set,\n",
        "                     steps_per_epoch=steps_per_epoch,\n",
        "                     epochs = 10,\n",
        "                     batch_size=32,\n",
        "                     verbose = 1)"
      ]
    },
    {
      "cell_type": "markdown",
      "metadata": {
        "id": "GH7ZWZZ9l8JW"
      },
      "source": [
        "### Evaluating Model 2"
      ]
    },
    {
      "cell_type": "code",
      "execution_count": 24,
      "metadata": {
        "id": "bfH4GXU3l-QP",
        "outputId": "4405dca5-ea25-4c33-a48d-9d25d5a1db39"
      },
      "outputs": [
        {
          "name": "stdout",
          "output_type": "stream",
          "text": [
            "Test Accuracy: 0.7398\n"
          ]
        }
      ],
      "source": [
        "loss, accuracy = model2.evaluate(test_set, verbose=False)\n",
        "print(\"Test Accuracy: {:.4f}\".format(accuracy))"
      ]
    },
    {
      "cell_type": "markdown",
      "metadata": {
        "id": "Io40dKa14hp-"
      },
      "source": [
        "## Validating the models\n",
        "\n",
        "Validating the models to check if they can accurately classify some of the unseen images."
      ]
    },
    {
      "cell_type": "code",
      "execution_count": 25,
      "metadata": {
        "id": "vyb7Ycvq4kwV"
      },
      "outputs": [],
      "source": [
        "# Function to prepare and predict the class of an image\n",
        "def predict_with_augmentation(img_path, model):\n",
        "    # Load the image\n",
        "    img = image.load_img(img_path, target_size=(224, 224))\n",
        "\n",
        "    plt.axis(\"off\")\n",
        "    plt.imshow(img)\n",
        "    plt.show()\n",
        "\n",
        "    # Convert the image to a numpy array\n",
        "    img_array = image.img_to_array(img)\n",
        "\n",
        "    # Expand dimensions to match the shape of model input\n",
        "    img_array = np.expand_dims(img_array, axis=0)\n",
        "\n",
        "    # Predict (data augmentation is applied automatically)\n",
        "    prediction = model.predict(img_array)\n",
        "\n",
        "    print(prediction)\n",
        "\n",
        "    if prediction[0][0] == 1:\n",
        "      predicted_class = 'Recyclable Waste'\n",
        "    else:\n",
        "      predicted_class = 'Organic Waste'\n",
        "\n",
        "    return predicted_class"
      ]
    },
    {
      "cell_type": "code",
      "execution_count": 27,
      "metadata": {
        "id": "7jPZuOkb2QYq",
        "outputId": "c145966b-66a4-486a-ec14-ef33024f1186"
      },
      "outputs": [
        {
          "data": {
            "image/png": "[encoded data removed]",
            "text/plain": [
              "<Figure size 640x480 with 1 Axes>"
            ]
          },
          "metadata": {},
          "output_type": "display_data"
        },
        {
          "name": "stdout",
          "output_type": "stream",
          "text": [
            "\u001b[1m1/1\u001b[0m \u001b[32m━━━━━━━━━━━━━━━━━━━━\u001b[0m\u001b[37m\u001b[0m \u001b[1m0s\u001b[0m 230ms/step\n",
            "[[1.]]\n",
            "Predicted: Recyclable Waste\n"
          ]
        }
      ],
      "source": [
        "img_path = 'C:\\\\Users\\\\pooja\\\\Downloads\\\\recycling waste-20240329T123018Z-001\\\\recycling waste\\\\plastic\\\\plastic2.jpg'\n",
        "#img_path = 'C:\\\\Users\\\\pooja\\\\Downloads\\\\dustbin.jpg'\n",
        "predicted_class = predict_with_augmentation(img_path, model1)\n",
        "print(f'Predicted: {predicted_class}')"
      ]
    },
    {
      "cell_type": "code",
      "execution_count": 31,
      "metadata": {
        "id": "FHdRpkUTCy-P"
      },
      "outputs": [],
      "source": [
        "model1.save(\"tf_model_1.keras\")\n",
        "model2.save(\"tf_model_2.keras\")"
      ]
    }
  ],
  "metadata": {
    "accelerator": "GPU",
    "colab": {
      "gpuType": "T4",
      "provenance": []
    },
    "kernelspec": {
      "display_name": "Python 3",
      "name": "python3"
    },
    "language_info": {
      "codemirror_mode": {
        "name": "ipython",
        "version": 3
      },
      "file_extension": ".py",
      "mimetype": "text/x-python",
      "name": "python",
      "nbconvert_exporter": "python",
      "pygments_lexer": "ipython3",
      "version": "3.11.2"
    }
  },
  "nbformat": 4,
  "nbformat_minor": 0
}
